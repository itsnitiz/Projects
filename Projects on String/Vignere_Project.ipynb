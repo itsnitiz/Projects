{
 "cells": [
  {
   "cell_type": "code",
   "execution_count": null,
   "metadata": {},
   "outputs": [],
   "source": [
    "import string\n",
    "s = 'plaksha'\n",
    "s.find('l')"
   ]
  },
  {
   "cell_type": "code",
   "execution_count": null,
   "metadata": {},
   "outputs": [],
   "source": [
    "s.replace(\"a\",\"e\")"
   ]
  },
  {
   "cell_type": "code",
   "execution_count": null,
   "metadata": {},
   "outputs": [],
   "source": [
    "def textstrip(filename):\n",
    "    '''This takes the file and converts it to a string with all the spaces and other\n",
    "    special characters removed. What remains is only the lower case letters,\n",
    "    retain only the lowercase letters!\n",
    "    '''\n",
    "    f = open(filename , encoding=\"utf8\")\n",
    "    s = f.read()\n",
    "    k=''\n",
    "    for i in s:\n",
    "        if i.islower() == True:\n",
    "            k+=i\n",
    "    \n",
    "    return k\n",
    "\n",
    "textstrip(\"sherlock.txt\")"
   ]
  },
  {
   "cell_type": "code",
   "execution_count": null,
   "metadata": {},
   "outputs": [],
   "source": [
    "def letter_distribution(s):\n",
    "    '''Consider the string s which comprises of only lowercase letters. Count\n",
    "    the number of occurrences of each letter and return a dictionary'''\n",
    "    a = {}\n",
    "    for i in range(97,123):  #Storing all lowercase alphabets in a dictionary using ASCII\n",
    "        a[chr(i)] = 0\n",
    "    \n",
    "    for i in s:\n",
    "        if i in a.keys():    #looking for key vlaues which are lowercase alphabets and increasing the value by 1\n",
    "            a[i]+=1\n",
    "    \n",
    "    return a\n",
    "\n",
    "letter_distribution(textstrip(\"sherlock.txt\"))\n"
   ]
  },
  {
   "cell_type": "code",
   "execution_count": null,
   "metadata": {},
   "outputs": [],
   "source": [
    "def substitution_encrypt(s,d):\n",
    "    '''encrypt the contents of s by using the dictionary d which comprises of\n",
    "    the substitutions for the 26 letters. Return the resulting string'''\n",
    "    k=''\n",
    "    for i in s:\n",
    "        if i in d.keys(): #looking for substitution value in the dictionary to print the required string\n",
    "            k+=d[i]\n",
    "    return k\n",
    "\n",
    "substitution_encrypt('blueyes',{'b':'a',\"l\":\"m\",'u':'x','e':'g','y':'z','s':'t'})"
   ]
  },
  {
   "cell_type": "code",
   "execution_count": null,
   "metadata": {},
   "outputs": [],
   "source": [
    "def substitution_decrypt(s,d):\n",
    "    '''decrypt the contents of s by using the dictionary d which comprises of\n",
    "    the substitutions for the 26 letters. Return the resulting string'''\n",
    "    k=''\n",
    "    for i in s:\n",
    "        if i in d.keys():  #looking for substitution value in the dictionary to print the required string\n",
    "            k+=d[i]\n",
    "    return k\n",
    "\n",
    "substitution_decrypt('amxgzgt',{'a':'b','m':'l','x':'u','g':'e','z':'y','t':'s'})"
   ]
  },
  {
   "cell_type": "code",
   "execution_count": null,
   "metadata": {},
   "outputs": [],
   "source": [
    "def cryptanalyse_substitution(s):\n",
    "    '''Given that the string s is given to us and it is known that it was\n",
    "    encrypted using some substitution cipher, predict the d'''\n",
    "    a = {}\n",
    "    for i in range(97,123):  #Storing all lowercase alphabets in a dictionary using ASCII\n",
    "        a[chr(i)] = 0\n",
    "    for i in s:\n",
    "        if i in a.keys():     #looking for key vlaues which are lowercase alphabets and increasing the value by 1\n",
    "            a[i]+=1\n",
    "    maxi = max(zip(a.values(), a.keys()))[1]  #to find the maximum occurence character\n",
    "    c = {}\n",
    "    c[maxi] = 'e'\n",
    "    n = ord(maxi)-ord('e')  # finding the difference between the character and 'e'\n",
    "    for j in range(97,123):  #shifting all the characters byt the difference that came from the previous one\n",
    "        if(j+n>=97 and j+n<=123):\n",
    "            c[chr(j)] = chr(j+n)\n",
    "        elif(j+n<=97):\n",
    "            c[chr(j)] = chr((123-(97-(j+n))))\n",
    "        else:\n",
    "            c[chr(j)] = chr(97+((j+n)-123))\n",
    "    \n",
    "    return c\n",
    "\n",
    "cryptanalyse_substitution('nitiiiiizzz')\n",
    "    "
   ]
  },
  {
   "cell_type": "code",
   "execution_count": 3,
   "metadata": {},
   "outputs": [
    {
     "data": {
      "text/plain": [
       "'fcgamua'"
      ]
     },
     "execution_count": 3,
     "metadata": {},
     "output_type": "execute_result"
    }
   ],
   "source": [
    "def vigenere_encrypt(s,password):\n",
    "    '''Encrypt the string s based on the password the vigenere cipher way and\n",
    "    return the resulting string'''\n",
    "    a = {}\n",
    "    b = 0\n",
    "    k=''\n",
    "    for i in range(97,123):  #Storing all lowercase alphabets in a dictionary using ASCII\n",
    "        a[chr(i)] = b\n",
    "        b+=1\n",
    "    i =0\n",
    "    while i < len(s):\n",
    "        for j in password:  \n",
    "            if i>=len(s):\n",
    "                break\n",
    "            n = a[s[i]]+a[j] #adding the value stored for the characters from the previous dictionary to get the value required as per vignere cipher\n",
    "            if n>=26:\n",
    "                n=n-26\n",
    "            for key,value in a.items(): #looking for key from the value that came previously in the dictionary\n",
    "                if n == value:\n",
    "                    k+=key\n",
    "            i+=1\n",
    "    return k\n",
    "\n",
    "vigenere_encrypt('nitishi','sun')\n"
   ]
  },
  {
   "cell_type": "code",
   "execution_count": 4,
   "metadata": {},
   "outputs": [
    {
     "data": {
      "text/plain": [
       "'nitspp'"
      ]
     },
     "execution_count": 4,
     "metadata": {},
     "output_type": "execute_result"
    }
   ],
   "source": [
    "def vigenere_decrypt(s,password):\n",
    "    '''Decrypt the string s based on the password the vigenere cipher way and\n",
    "    return the resulting string'''\n",
    "    a = {}\n",
    "    b = 0\n",
    "    k=''\n",
    "    for i in range(97,123):  #Storing all lowercase alphabets in a dictionary using ASCII\n",
    "        a[chr(i)] = b\n",
    "        b+=1\n",
    "    i = 0\n",
    "    while i < len(s)-1:\n",
    "        for j in password:\n",
    "            if i >=len(s):\n",
    "                break\n",
    "            n = a[s[i]]-a[j]  #Subtracting to get the value for decryption of cipher\n",
    "            if n<0:\n",
    "                n+=26\n",
    "            for key,value in a.items(): #looking for key from the value that came previously in the dictionary\n",
    "                if n == value:\n",
    "                    k+=key\n",
    "            i+=1\n",
    "    return k\n",
    "\n",
    "vigenere_decrypt('fcgahj','suni')"
   ]
  },
  {
   "cell_type": "code",
   "execution_count": 5,
   "metadata": {},
   "outputs": [
    {
     "data": {
      "text/plain": [
       "'tishni'"
      ]
     },
     "execution_count": 5,
     "metadata": {},
     "output_type": "execute_result"
    }
   ],
   "source": [
    "def rotate_compare(s,r):\n",
    "    '''This rotates the string s by r places and compares s(0) with s(r) and\n",
    "    returns the proportion of collisions'''\n",
    "    k=''\n",
    "    for a in range(-r,0,1): #start the string from last\n",
    "        k+=s[a]\n",
    "    n = len(s)-r\n",
    "    for i in range(n): #again starting from the begining of the string\n",
    "        k+=s[i]\n",
    "    return k\n",
    "\n",
    "rotate_compare('nitish',4)"
   ]
  },
  {
   "cell_type": "code",
   "execution_count": 6,
   "metadata": {},
   "outputs": [
    {
     "data": {
      "text/plain": [
       "'biq'"
      ]
     },
     "execution_count": 6,
     "metadata": {},
     "output_type": "execute_result"
    }
   ],
   "source": [
    "def cryptanalyse_vigenere_afterlength(s,k):\n",
    "    '''Given the string s which is known to be vigenere encrypted with a\n",
    "    password of length k, find out what is the password'''\n",
    "    a,c = {},{}              #Creating two dictionaries one for counting and another for predicting the characters of password\n",
    "    l=''\n",
    "    for i in range(97,123):  #Storing all lowercase alphabets in a dictionary using ASCII\n",
    "        n = i-4\n",
    "        if n<97:\n",
    "            n = 123 - (97-n)\n",
    "        a[chr(i)] = chr(n)\n",
    "        c[chr(i)] = 0\n",
    "    for e in range(k):      \n",
    "        b = e\n",
    "        while b < len(s):\n",
    "            for key,value in c.items(): #Counting the no of characters at nth position\n",
    "                if key == s[b]:   \n",
    "                    value+=1\n",
    "                    c[key] = value\n",
    "            b+=k\n",
    "        maxi = max(zip(c.values(), c.keys()))[1]  #Storing the highest frequency character\n",
    "        l+=a[maxi]\n",
    "        for key,value in c.items():\n",
    "            c[key] =0\n",
    "    return l\n",
    "\n",
    "cryptanalyse_vigenere_afterlength('fcgamu',3)\n",
    "    "
   ]
  },
  {
   "cell_type": "code",
   "execution_count": 10,
   "metadata": {},
   "outputs": [
    {
     "data": {
      "text/plain": [
       "13"
      ]
     },
     "execution_count": 10,
     "metadata": {},
     "output_type": "execute_result"
    }
   ],
   "source": [
    "def cryptanalyse_vigenere_findlength(s):\n",
    "    '''Given just the string s, find out the length of the password using which\n",
    "    some text has resulted in the string s. We just need to return the number\n",
    "    k'''\n",
    "    maxi=0\n",
    "    for i in range(1,5):\n",
    "        k =0\n",
    "        a = rotate_compare(s,i) #calling the function already made before \n",
    "        for x,y in zip(s,a):  #comparing the two strings\n",
    "            if x == y:\n",
    "                k+=1     #keeping track of collisions\n",
    "        maxi = max(maxi,k)  #storing the maximum collisions\n",
    "    \n",
    "    return maxi\n",
    "\n",
    "cryptanalyse_vigenere_findlength('fcgambhjwbfjnjfsbgljajkgswejwnqfjbribdslfbvkjdfbvkljdfbsvkjdfbsvkfbiurfiuwlijlbfekjdbvlkjafsbvkjsfvkjgfskajvjnnvjfadnvkjfvkjfabiwafbfjweu')"
   ]
  },
  {
   "cell_type": "code",
   "execution_count": null,
   "metadata": {},
   "outputs": [],
   "source": [
    "def cryptanalyse_vigenere(s):\n",
    "    '''Given the string s cryptanalyse vigenere, output the password as well as\n",
    "    the plaintext'''\n",
    "    len_paswrd = cryptanalyse_vigenere_findlength(s) #calling the previous functions\n",
    "    password = cryptanalyse_vigenere_afterlength(s,len_paswrd) \n",
    "    plaintext = vigenere_decrypt(s,password)\n",
    "\n",
    "    return password, plaintext\n",
    "\n",
    "cryptanalyse_vigenere('fcagamuekjwrlngjrenrgnioewrjfoienguengjenwnrjengorngorengiorengklrenflk')\n"
   ]
  }
 ],
 "metadata": {
  "kernelspec": {
   "display_name": "Python 3.10.5 64-bit",
   "language": "python",
   "name": "python3"
  },
  "language_info": {
   "codemirror_mode": {
    "name": "ipython",
    "version": 3
   },
   "file_extension": ".py",
   "mimetype": "text/x-python",
   "name": "python",
   "nbconvert_exporter": "python",
   "pygments_lexer": "ipython3",
   "version": "3.10.5"
  },
  "orig_nbformat": 4,
  "vscode": {
   "interpreter": {
    "hash": "26de051ba29f2982a8de78e945f0abaf191376122a1563185a90213a26c5da77"
   }
  }
 },
 "nbformat": 4,
 "nbformat_minor": 2
}
