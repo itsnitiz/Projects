{
 "cells": [
  {
   "attachments": {},
   "cell_type": "markdown",
   "metadata": {},
   "source": [
    "## Exploring autoscrapper for learning purpose"
   ]
  },
  {
   "cell_type": "code",
   "execution_count": 20,
   "metadata": {},
   "outputs": [],
   "source": [
    "from autoscraper import AutoScraper"
   ]
  },
  {
   "cell_type": "code",
   "execution_count": 21,
   "metadata": {},
   "outputs": [],
   "source": [
    "url = 'https://weather.com/en-IN/weather/tenday/l/d253814420804f28d49f7a75130e71b797c3c93f9ded842eaf6769e3784da352'\n",
    "wanted = ['Thu 19 ','Night','9°','Cloudy','Cloudy. Low 9ºC. Winds NNW and variable']"
   ]
  },
  {
   "cell_type": "code",
   "execution_count": 22,
   "metadata": {},
   "outputs": [
    {
     "name": "stdout",
     "output_type": "stream",
     "text": [
      "['19°', '7°', '20°', '9°', '10°', '18°', '12°', '11°', '17°', '16°', '8°']\n"
     ]
    }
   ],
   "source": [
    "scraper = AutoScraper()\n",
    "result = scraper.build(url,wanted)\n",
    "print(result)"
   ]
  },
  {
   "attachments": {},
   "cell_type": "markdown",
   "metadata": {},
   "source": [
    "## Using BeautifulSoup for Assignment"
   ]
  },
  {
   "cell_type": "code",
   "execution_count": 23,
   "metadata": {},
   "outputs": [],
   "source": [
    "import pandas as pd\n",
    "import requests\n",
    "from bs4 import BeautifulSoup"
   ]
  },
  {
   "cell_type": "code",
   "execution_count": 24,
   "metadata": {},
   "outputs": [],
   "source": [
    "detail = requests.get('https://weather.com/en-IN/weather/tenday/l/d253814420804f28d49f7a75130e71b797c3c93f9ded842eaf6769e3784da352').text"
   ]
  },
  {
   "cell_type": "code",
   "execution_count": 25,
   "metadata": {},
   "outputs": [],
   "source": [
    "soup = BeautifulSoup(detail, 'lxml')"
   ]
  },
  {
   "attachments": {},
   "cell_type": "markdown",
   "metadata": {},
   "source": [
    "Exploring the functionalities of beautifulsoup and its applications on the webpage before using"
   ]
  },
  {
   "cell_type": "code",
   "execution_count": 27,
   "metadata": {},
   "outputs": [
    {
     "data": {
      "text/plain": [
       "<h3 class=\"DailyContent--daypartName--3emSU\"><span class=\"DailyContent--daypartDate--3VGlz\">Sat 21</span> | Day</h3>"
      ]
     },
     "execution_count": 27,
     "metadata": {},
     "output_type": "execute_result"
    }
   ],
   "source": [
    "soup.find_all('h3',class_=\"DailyContent--daypartName--3emSU\")[0]"
   ]
  },
  {
   "cell_type": "code",
   "execution_count": 28,
   "metadata": {},
   "outputs": [
    {
     "name": "stdout",
     "output_type": "stream",
     "text": [
      "Special Forecasts\n",
      "Today\n",
      "Sat 21 | Day\n",
      "Sat 21 | Night\n",
      "Sun 22\n",
      "Sun 22 | Day\n",
      "Sun 22 | Night\n",
      "Mon 23\n",
      "Mon 23 | Day\n",
      "Mon 23 | Night\n",
      "Tue 24\n",
      "Tue 24 | Day\n",
      "Tue 24 | Night\n",
      "Wed 25\n",
      "Wed 25 | Day\n",
      "Wed 25 | Night\n",
      "Thu 26\n",
      "Thu 26 | Day\n",
      "Thu 26 | Night\n",
      "Fri 27\n",
      "Fri 27 | Day\n",
      "Fri 27 | Night\n",
      "Sat 28\n",
      "Sat 28 | Day\n",
      "Sat 28 | Night\n",
      "Sun 29\n",
      "Sun 29 | Day\n",
      "Sun 29 | Night\n",
      "Mon 30\n",
      "Mon 30 | Day\n",
      "Mon 30 | Night\n",
      "Tue 31\n",
      "Tue 31 | Day\n",
      "Tue 31 | Night\n",
      "Wed 01\n",
      "Wed 01 | Day\n",
      "Wed 01 | Night\n",
      "Thu 02\n",
      "Thu 02 | Day\n",
      "Thu 02 | Night\n",
      "Fri 03\n",
      "Fri 03 | Day\n",
      "Fri 03 | Night\n",
      "Sat 04\n",
      "Sat 04 | Day\n",
      "Sat 04 | Night\n"
     ]
    }
   ],
   "source": [
    "for i in soup.find_all('h3'):\n",
    "    print(i.text.strip())"
   ]
  },
  {
   "cell_type": "code",
   "execution_count": 30,
   "metadata": {},
   "outputs": [],
   "source": [
    "short_desc=[]\n",
    "desc1 = soup.find_all('span',class_=\"DetailsSummary--extendedData--307Ax\")\n",
    "for i in desc1:\n",
    "    short_desc.append(i.text.strip())"
   ]
  },
  {
   "cell_type": "code",
   "execution_count": 31,
   "metadata": {},
   "outputs": [
    {
     "data": {
      "text/plain": [
       "['Sunny',\n",
       " 'Sunny',\n",
       " 'Mostly Sunny',\n",
       " 'Showers',\n",
       " 'T-Showers',\n",
       " 'Scattered T-Storms',\n",
       " 'Scattered T-Storms',\n",
       " 'Scattered T-Storms',\n",
       " 'Showers',\n",
       " 'AM Showers',\n",
       " 'Sunny',\n",
       " 'Sunny',\n",
       " 'Partly Cloudy',\n",
       " 'Sunny',\n",
       " 'Sunny']"
      ]
     },
     "execution_count": 31,
     "metadata": {},
     "output_type": "execute_result"
    }
   ],
   "source": [
    "short_desc ## got one of out required values"
   ]
  },
  {
   "cell_type": "code",
   "execution_count": 32,
   "metadata": {},
   "outputs": [],
   "source": [
    "#Duplicating the values of short description to make the table shape of 30\n",
    "for j in range(1,(len(short_desc)*2),2):\n",
    "    short_desc.insert(j,short_desc[j-1])"
   ]
  },
  {
   "cell_type": "code",
   "execution_count": 33,
   "metadata": {},
   "outputs": [
    {
     "data": {
      "text/plain": [
       "30"
      ]
     },
     "execution_count": 33,
     "metadata": {},
     "output_type": "execute_result"
    }
   ],
   "source": [
    "len(short_desc)"
   ]
  },
  {
   "cell_type": "code",
   "execution_count": 34,
   "metadata": {},
   "outputs": [],
   "source": [
    "day_wise = soup.find_all('div',class_='DaypartDetails--Content--2Yg3_ DaypartDetails--contentGrid--2_szQ') \n",
    "#storing all 15 day weather data in one variable, then will extract from them the required dat day by day"
   ]
  },
  {
   "cell_type": "code",
   "execution_count": 35,
   "metadata": {},
   "outputs": [
    {
     "data": {
      "text/plain": [
       "15"
      ]
     },
     "execution_count": 35,
     "metadata": {},
     "output_type": "execute_result"
    }
   ],
   "source": [
    "len(day_wise)"
   ]
  },
  {
   "cell_type": "code",
   "execution_count": 36,
   "metadata": {},
   "outputs": [],
   "source": [
    "day = [] #for storing day and date\n",
    "temp = [] #for storing temperature\n",
    "desc = [] #for storing short description for each day\n",
    "for i in day_wise:\n",
    "    for j in range(2):#to capture day and night details of each date\n",
    "        day.append(i.find_all('h3',class_=\"DailyContent--daypartName--3emSU\")[j].text.strip())\n",
    "        temp.append(i.find_all('span',class_=\"DailyContent--temp--1s3a7\")[j].text.strip())\n",
    "        desc.append(i.find_all('p',class_=\"DailyContent--narrative--3Ti6_\")[j].text.strip())"
   ]
  },
  {
   "cell_type": "code",
   "execution_count": 37,
   "metadata": {},
   "outputs": [],
   "source": [
    "#converting to dataframe\n",
    "d = {'day':day,'temp':temp,'short_desc':short_desc,'desc':desc}\n",
    "df = pd.DataFrame(d)"
   ]
  },
  {
   "cell_type": "code",
   "execution_count": 38,
   "metadata": {},
   "outputs": [
    {
     "data": {
      "text/html": [
       "<div>\n",
       "<style scoped>\n",
       "    .dataframe tbody tr th:only-of-type {\n",
       "        vertical-align: middle;\n",
       "    }\n",
       "\n",
       "    .dataframe tbody tr th {\n",
       "        vertical-align: top;\n",
       "    }\n",
       "\n",
       "    .dataframe thead th {\n",
       "        text-align: right;\n",
       "    }\n",
       "</style>\n",
       "<table border=\"1\" class=\"dataframe\">\n",
       "  <thead>\n",
       "    <tr style=\"text-align: right;\">\n",
       "      <th></th>\n",
       "      <th>day</th>\n",
       "      <th>temp</th>\n",
       "      <th>short_desc</th>\n",
       "      <th>desc</th>\n",
       "    </tr>\n",
       "  </thead>\n",
       "  <tbody>\n",
       "    <tr>\n",
       "      <th>0</th>\n",
       "      <td>Sat 21 | Day</td>\n",
       "      <td>19°</td>\n",
       "      <td>Sunny</td>\n",
       "      <td>Generally clear. High 19ºC. Winds WNW and vari...</td>\n",
       "    </tr>\n",
       "    <tr>\n",
       "      <th>1</th>\n",
       "      <td>Sat 21 | Night</td>\n",
       "      <td>7°</td>\n",
       "      <td>Sunny</td>\n",
       "      <td>Generally clear. Low 7ºC. Winds N and variable.</td>\n",
       "    </tr>\n",
       "    <tr>\n",
       "      <th>2</th>\n",
       "      <td>Sun 22 | Day</td>\n",
       "      <td>20°</td>\n",
       "      <td>Sunny</td>\n",
       "      <td>Generally clear. High 20ºC. Winds NW at 10 to ...</td>\n",
       "    </tr>\n",
       "    <tr>\n",
       "      <th>3</th>\n",
       "      <td>Sun 22 | Night</td>\n",
       "      <td>9°</td>\n",
       "      <td>Sunny</td>\n",
       "      <td>Generally clear. Low 9ºC. Winds NNE and variable.</td>\n",
       "    </tr>\n",
       "    <tr>\n",
       "      <th>4</th>\n",
       "      <td>Mon 23 | Day</td>\n",
       "      <td>20°</td>\n",
       "      <td>Mostly Sunny</td>\n",
       "      <td>Generally clear. High 20ºC. Winds NW and varia...</td>\n",
       "    </tr>\n",
       "    <tr>\n",
       "      <th>5</th>\n",
       "      <td>Mon 23 | Night</td>\n",
       "      <td>10°</td>\n",
       "      <td>Mostly Sunny</td>\n",
       "      <td>Partly cloudy. Low 10ºC. Winds NNE and variable.</td>\n",
       "    </tr>\n",
       "    <tr>\n",
       "      <th>6</th>\n",
       "      <td>Tue 24 | Day</td>\n",
       "      <td>18°</td>\n",
       "      <td>Showers</td>\n",
       "      <td>Showers. High 18ºC. Winds ESE at 10 to 15 km/h...</td>\n",
       "    </tr>\n",
       "    <tr>\n",
       "      <th>7</th>\n",
       "      <td>Tue 24 | Night</td>\n",
       "      <td>12°</td>\n",
       "      <td>Showers</td>\n",
       "      <td>Light rain. Low 12ºC. Winds SE and variable. C...</td>\n",
       "    </tr>\n",
       "    <tr>\n",
       "      <th>8</th>\n",
       "      <td>Wed 25 | Day</td>\n",
       "      <td>18°</td>\n",
       "      <td>T-Showers</td>\n",
       "      <td>Thundershowers. High 18ºC. Winds SSE at 10 to ...</td>\n",
       "    </tr>\n",
       "    <tr>\n",
       "      <th>9</th>\n",
       "      <td>Wed 25 | Night</td>\n",
       "      <td>11°</td>\n",
       "      <td>T-Showers</td>\n",
       "      <td>Thunderstorms. Low 11ºC. Winds NNE and variabl...</td>\n",
       "    </tr>\n",
       "    <tr>\n",
       "      <th>10</th>\n",
       "      <td>Thu 26 | Day</td>\n",
       "      <td>18°</td>\n",
       "      <td>Scattered T-Storms</td>\n",
       "      <td>Scattered thunderstorms. High 18ºC. Winds WNW ...</td>\n",
       "    </tr>\n",
       "    <tr>\n",
       "      <th>11</th>\n",
       "      <td>Thu 26 | Night</td>\n",
       "      <td>11°</td>\n",
       "      <td>Scattered T-Storms</td>\n",
       "      <td>Thunderstorms. Hazy. Low 11ºC. Winds NE and va...</td>\n",
       "    </tr>\n",
       "    <tr>\n",
       "      <th>12</th>\n",
       "      <td>Fri 27 | Day</td>\n",
       "      <td>19°</td>\n",
       "      <td>Scattered T-Storms</td>\n",
       "      <td>Scattered thunderstorms. High 19ºC. Winds WNW ...</td>\n",
       "    </tr>\n",
       "    <tr>\n",
       "      <th>13</th>\n",
       "      <td>Fri 27 | Night</td>\n",
       "      <td>11°</td>\n",
       "      <td>Scattered T-Storms</td>\n",
       "      <td>Scattered thunderstorms. Low 11ºC. Winds NNE a...</td>\n",
       "    </tr>\n",
       "    <tr>\n",
       "      <th>14</th>\n",
       "      <td>Sat 28 | Day</td>\n",
       "      <td>18°</td>\n",
       "      <td>Scattered T-Storms</td>\n",
       "      <td>Scattered thunderstorms. High 18ºC. Winds WSW ...</td>\n",
       "    </tr>\n",
       "    <tr>\n",
       "      <th>15</th>\n",
       "      <td>Sat 28 | Night</td>\n",
       "      <td>10°</td>\n",
       "      <td>Scattered T-Storms</td>\n",
       "      <td>Showers. Low 10ºC. Winds NE and variable. Chan...</td>\n",
       "    </tr>\n",
       "    <tr>\n",
       "      <th>16</th>\n",
       "      <td>Sun 29 | Day</td>\n",
       "      <td>17°</td>\n",
       "      <td>Showers</td>\n",
       "      <td>Showers. High 17ºC. Winds WSW and variable. Ch...</td>\n",
       "    </tr>\n",
       "    <tr>\n",
       "      <th>17</th>\n",
       "      <td>Sun 29 | Night</td>\n",
       "      <td>9°</td>\n",
       "      <td>Showers</td>\n",
       "      <td>Showers. Low 9ºC. Winds NE and variable. Chanc...</td>\n",
       "    </tr>\n",
       "    <tr>\n",
       "      <th>18</th>\n",
       "      <td>Mon 30 | Day</td>\n",
       "      <td>16°</td>\n",
       "      <td>AM Showers</td>\n",
       "      <td>Morning showers. High 16ºC. Winds WNW at 10 to...</td>\n",
       "    </tr>\n",
       "    <tr>\n",
       "      <th>19</th>\n",
       "      <td>Mon 30 | Night</td>\n",
       "      <td>7°</td>\n",
       "      <td>AM Showers</td>\n",
       "      <td>Generally clear. Low 7ºC. Winds NNW and variable.</td>\n",
       "    </tr>\n",
       "    <tr>\n",
       "      <th>20</th>\n",
       "      <td>Tue 31 | Day</td>\n",
       "      <td>17°</td>\n",
       "      <td>Sunny</td>\n",
       "      <td>Generally clear. High 17ºC. Winds NW at 10 to ...</td>\n",
       "    </tr>\n",
       "    <tr>\n",
       "      <th>21</th>\n",
       "      <td>Tue 31 | Night</td>\n",
       "      <td>7°</td>\n",
       "      <td>Sunny</td>\n",
       "      <td>Generally clear. Low 7ºC. Winds NNW and variable.</td>\n",
       "    </tr>\n",
       "    <tr>\n",
       "      <th>22</th>\n",
       "      <td>Wed 01 | Day</td>\n",
       "      <td>17°</td>\n",
       "      <td>Sunny</td>\n",
       "      <td>Generally clear. High 17ºC. Winds NW at 10 to ...</td>\n",
       "    </tr>\n",
       "    <tr>\n",
       "      <th>23</th>\n",
       "      <td>Wed 01 | Night</td>\n",
       "      <td>7°</td>\n",
       "      <td>Sunny</td>\n",
       "      <td>Generally clear. Low 7ºC. Winds NNW and variable.</td>\n",
       "    </tr>\n",
       "    <tr>\n",
       "      <th>24</th>\n",
       "      <td>Thu 02 | Day</td>\n",
       "      <td>18°</td>\n",
       "      <td>Partly Cloudy</td>\n",
       "      <td>Partly cloudy. High 18ºC. Winds NW at 10 to 15...</td>\n",
       "    </tr>\n",
       "    <tr>\n",
       "      <th>25</th>\n",
       "      <td>Thu 02 | Night</td>\n",
       "      <td>8°</td>\n",
       "      <td>Partly Cloudy</td>\n",
       "      <td>Generally clear. Low 8ºC. Winds N and variable.</td>\n",
       "    </tr>\n",
       "    <tr>\n",
       "      <th>26</th>\n",
       "      <td>Fri 03 | Day</td>\n",
       "      <td>19°</td>\n",
       "      <td>Sunny</td>\n",
       "      <td>Generally clear. High 19ºC. Winds WNW and vari...</td>\n",
       "    </tr>\n",
       "    <tr>\n",
       "      <th>27</th>\n",
       "      <td>Fri 03 | Night</td>\n",
       "      <td>8°</td>\n",
       "      <td>Sunny</td>\n",
       "      <td>Generally clear. Low 8ºC. Winds NNE and variable.</td>\n",
       "    </tr>\n",
       "    <tr>\n",
       "      <th>28</th>\n",
       "      <td>Sat 04 | Day</td>\n",
       "      <td>19°</td>\n",
       "      <td>Sunny</td>\n",
       "      <td>Generally clear. High 19ºC. Winds WNW and vari...</td>\n",
       "    </tr>\n",
       "    <tr>\n",
       "      <th>29</th>\n",
       "      <td>Sat 04 | Night</td>\n",
       "      <td>9°</td>\n",
       "      <td>Sunny</td>\n",
       "      <td>Generally clear. Low 9ºC. Winds NE and variable.</td>\n",
       "    </tr>\n",
       "  </tbody>\n",
       "</table>\n",
       "</div>"
      ],
      "text/plain": [
       "               day temp          short_desc  \\\n",
       "0     Sat 21 | Day  19°               Sunny   \n",
       "1   Sat 21 | Night   7°               Sunny   \n",
       "2     Sun 22 | Day  20°               Sunny   \n",
       "3   Sun 22 | Night   9°               Sunny   \n",
       "4     Mon 23 | Day  20°        Mostly Sunny   \n",
       "5   Mon 23 | Night  10°        Mostly Sunny   \n",
       "6     Tue 24 | Day  18°             Showers   \n",
       "7   Tue 24 | Night  12°             Showers   \n",
       "8     Wed 25 | Day  18°           T-Showers   \n",
       "9   Wed 25 | Night  11°           T-Showers   \n",
       "10    Thu 26 | Day  18°  Scattered T-Storms   \n",
       "11  Thu 26 | Night  11°  Scattered T-Storms   \n",
       "12    Fri 27 | Day  19°  Scattered T-Storms   \n",
       "13  Fri 27 | Night  11°  Scattered T-Storms   \n",
       "14    Sat 28 | Day  18°  Scattered T-Storms   \n",
       "15  Sat 28 | Night  10°  Scattered T-Storms   \n",
       "16    Sun 29 | Day  17°             Showers   \n",
       "17  Sun 29 | Night   9°             Showers   \n",
       "18    Mon 30 | Day  16°          AM Showers   \n",
       "19  Mon 30 | Night   7°          AM Showers   \n",
       "20    Tue 31 | Day  17°               Sunny   \n",
       "21  Tue 31 | Night   7°               Sunny   \n",
       "22    Wed 01 | Day  17°               Sunny   \n",
       "23  Wed 01 | Night   7°               Sunny   \n",
       "24    Thu 02 | Day  18°       Partly Cloudy   \n",
       "25  Thu 02 | Night   8°       Partly Cloudy   \n",
       "26    Fri 03 | Day  19°               Sunny   \n",
       "27  Fri 03 | Night   8°               Sunny   \n",
       "28    Sat 04 | Day  19°               Sunny   \n",
       "29  Sat 04 | Night   9°               Sunny   \n",
       "\n",
       "                                                 desc  \n",
       "0   Generally clear. High 19ºC. Winds WNW and vari...  \n",
       "1     Generally clear. Low 7ºC. Winds N and variable.  \n",
       "2   Generally clear. High 20ºC. Winds NW at 10 to ...  \n",
       "3   Generally clear. Low 9ºC. Winds NNE and variable.  \n",
       "4   Generally clear. High 20ºC. Winds NW and varia...  \n",
       "5    Partly cloudy. Low 10ºC. Winds NNE and variable.  \n",
       "6   Showers. High 18ºC. Winds ESE at 10 to 15 km/h...  \n",
       "7   Light rain. Low 12ºC. Winds SE and variable. C...  \n",
       "8   Thundershowers. High 18ºC. Winds SSE at 10 to ...  \n",
       "9   Thunderstorms. Low 11ºC. Winds NNE and variabl...  \n",
       "10  Scattered thunderstorms. High 18ºC. Winds WNW ...  \n",
       "11  Thunderstorms. Hazy. Low 11ºC. Winds NE and va...  \n",
       "12  Scattered thunderstorms. High 19ºC. Winds WNW ...  \n",
       "13  Scattered thunderstorms. Low 11ºC. Winds NNE a...  \n",
       "14  Scattered thunderstorms. High 18ºC. Winds WSW ...  \n",
       "15  Showers. Low 10ºC. Winds NE and variable. Chan...  \n",
       "16  Showers. High 17ºC. Winds WSW and variable. Ch...  \n",
       "17  Showers. Low 9ºC. Winds NE and variable. Chanc...  \n",
       "18  Morning showers. High 16ºC. Winds WNW at 10 to...  \n",
       "19  Generally clear. Low 7ºC. Winds NNW and variable.  \n",
       "20  Generally clear. High 17ºC. Winds NW at 10 to ...  \n",
       "21  Generally clear. Low 7ºC. Winds NNW and variable.  \n",
       "22  Generally clear. High 17ºC. Winds NW at 10 to ...  \n",
       "23  Generally clear. Low 7ºC. Winds NNW and variable.  \n",
       "24  Partly cloudy. High 18ºC. Winds NW at 10 to 15...  \n",
       "25    Generally clear. Low 8ºC. Winds N and variable.  \n",
       "26  Generally clear. High 19ºC. Winds WNW and vari...  \n",
       "27  Generally clear. Low 8ºC. Winds NNE and variable.  \n",
       "28  Generally clear. High 19ºC. Winds WNW and vari...  \n",
       "29   Generally clear. Low 9ºC. Winds NE and variable.  "
      ]
     },
     "execution_count": 38,
     "metadata": {},
     "output_type": "execute_result"
    }
   ],
   "source": [
    "df"
   ]
  }
 ],
 "metadata": {
  "kernelspec": {
   "display_name": "Python 3",
   "language": "python",
   "name": "python3"
  },
  "language_info": {
   "codemirror_mode": {
    "name": "ipython",
    "version": 3
   },
   "file_extension": ".py",
   "mimetype": "text/x-python",
   "name": "python",
   "nbconvert_exporter": "python",
   "pygments_lexer": "ipython3",
   "version": "3.10.5"
  },
  "orig_nbformat": 4,
  "vscode": {
   "interpreter": {
    "hash": "26de051ba29f2982a8de78e945f0abaf191376122a1563185a90213a26c5da77"
   }
  }
 },
 "nbformat": 4,
 "nbformat_minor": 2
}
